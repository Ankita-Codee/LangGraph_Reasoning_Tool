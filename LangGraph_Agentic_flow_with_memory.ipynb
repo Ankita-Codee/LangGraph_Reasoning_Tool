{
 "cells": [
  {
   "cell_type": "markdown",
   "metadata": {},
   "source": [
    "# 🔹 Part 1: Normal Flow (Non-Agentic, No Tool, No Memory)\n",
    "A simple LangGraph flow where the LLM answers directly based on internal knowledge."
   ]
  },
  {
   "cell_type": "code",
   "execution_count": 1,
   "metadata": {},
   "outputs": [
    {
     "name": "stdout",
     "output_type": "stream",
     "text": [
      "<think>\n",
      "\n",
      "</think>\n",
      "\n",
      "Hello! How can I assist you today? 😊\n"
     ]
    }
   ],
   "source": [
    "\n",
    "import os\n",
    "from dotenv import load_dotenv\n",
    "\n",
    "# Load environment variables\n",
    "load_dotenv()\n",
    "os.environ['GROQ_API_KEY'] = os.getenv(\"GROQ_API_KEY\")\n",
    "\n",
    "from langchain_groq import ChatGroq\n",
    "model = \"deepseek-r1-distill-llama-70b\"\n",
    "llm = ChatGroq(model_name=model)\n",
    "\n",
    "print(llm.invoke(\"hi\").content)\n"
   ]
  },
  {
   "cell_type": "markdown",
   "id": "ff8da052",
   "metadata": {},
   "source": [
    "### 🧠 AgentState: Message Type Comparison\n",
    "\n",
    "| Feature                         | `AnyMessage + add_messages`                           | `BaseMessage + operator.add`                     |\n",
    "|---------------------------------|--------------------------------------------------------|--------------------------------------------------|\n",
    "| **Message Type**                | `AnyMessage` (supports all message types)             | `BaseMessage` (base class for Human/AI/system)   |\n",
    "| **Reducer Function**            | `add_messages` (LangGraph built-in reducer)           | `operator.add` (Python standard list addition)   |\n",
    "| **Flexibility**                 | ✅ High (any message structure)                       | ⚠️ Moderate (expects structured BaseMessage)     |\n",
    "| **Type Safety**                 | ⚠️ Less strict (accepts mixed/untyped input)          | ✅ Strong (enforces BaseMessage types)           |\n",
    "| **Best Use Case**               | Chatbots with mixed message flows                     | Custom agents where control is important         |\n",
    "| **Built-in LangGraph Support**  | ✅ Yes (used in prebuilt agents like chatbots)         | ❌ No (you manage all state logic)               |\n",
    "| **Ease of Use**                 | ✅ Beginner-friendly and clean                         | ⚠️ Requires manual handling of types             |\n",
    "| **Supports Streaming/Memory**  | ✅ Yes                                                | ✅ Yes                                            |\n",
    "\n"
   ]
  },
  {
   "cell_type": "code",
   "execution_count": 12,
   "metadata": {},
   "outputs": [
    {
     "data": {
      "image/png": "[encoded data removed]",
      "text/plain": [
       "<IPython.core.display.Image object>"
      ]
     },
     "metadata": {},
     "output_type": "display_data"
    },
    {
     "name": "stdout",
     "output_type": "stream",
     "text": [
      "Output from mybot Node\n",
      "_______\n",
      "{'messages': [AIMessage(content=\"<think>\\n\\n</think>\\n\\nHello! I'm just a virtual assistant, so I don't have feelings, but I'm here and ready to help you with whatever you need. How are you doing? 😊\", additional_kwargs={}, response_metadata={'token_usage': {'completion_tokens': 42, 'prompt_tokens': 9, 'total_tokens': 51, 'completion_time': 0.188077176, 'prompt_time': 0.008072412, 'queue_time': 0.223122446, 'total_time': 0.196149588}, 'model_name': 'deepseek-r1-distill-llama-70b', 'system_fingerprint': 'fp_1bbe7845ec', 'finish_reason': 'stop', 'logprobs': None}, id='run--8300a9d5-0a60-40eb-b48f-e114b9cce270-0', usage_metadata={'input_tokens': 9, 'output_tokens': 42, 'total_tokens': 51})]}\n",
      "\n",
      "\n"
     ]
    }
   ],
   "source": [
    "\n",
    "from typing import TypedDict, Annotated, Sequence\n",
    "from langchain_core.messages import AnyMessage\n",
    "from langgraph.graph import StateGraph, START, END\n",
    "from langgraph.graph import add_messages\n",
    "\n",
    "class MessagesState(TypedDict):\n",
    "    messages: Annotated[list[AnyMessage], add_messages]\n",
    "\n",
    "#from langchain_core.messages import BaseMessage\n",
    "#class AgentState(TypedDict):\n",
    "#   messages: Annotated[Sequence[BaseMessage], operator.add]\n",
    "\n",
    "def call_model(state: MessagesState):\n",
    "    messages = state['messages']\n",
    "    response = llm.invoke(messages)\n",
    "    return {\"messages\": [response]}\n",
    "\n",
    "workflow = StateGraph(MessagesState)\n",
    "workflow.add_node(\"mybot\", call_model)\n",
    "workflow.add_edge(START, \"mybot\")\n",
    "workflow.add_edge(\"mybot\", END)\n",
    "app = workflow.compile()\n",
    "\n",
    "from IPython.display import Image, display\n",
    "display(Image(app.get_graph().draw_mermaid_png()))\n",
    "\n",
    "input_data = {\"messages\": [\"hi hello how are you?\"]}\n",
    "app.invoke(input_data)\n",
    "\n",
    "for output in app.stream(input_data):\n",
    "    for key, value in output.items():\n",
    "        print(f\"Output from {key} Node\")\n",
    "        print(\"_______\")\n",
    "        print(value)\n",
    "        print(\"\\n\")\n"
   ]
  },
  {
   "cell_type": "markdown",
   "metadata": {},
   "source": [
    "# 🔸 Part 2: Agentic Flow with Tool Calling\n",
    "The LLM decides whether to use a tool and responds based on that."
   ]
  },
  {
   "cell_type": "code",
   "execution_count": 14,
   "metadata": {},
   "outputs": [
    {
     "data": {
      "image/png": "[encoded data removed]",
      "text/plain": [
       "<IPython.core.display.Image object>"
      ]
     },
     "metadata": {},
     "output_type": "display_data"
    },
    {
     "name": "stdout",
     "output_type": "stream",
     "text": [
      "The weather in Bengaluru is currently 25 degrees with cloudy conditions. Enjoy the pleasant weather—perfect for a walk or a cup of coffee outdoors!\n",
      "The weather in Delhi is currently 45 degrees and sunny.\n",
      "Hello! I'm just a computer program, so I don't have feelings, but I'm here and ready to help you with whatever you need. How can I assist you today?\n",
      "Here is output from llmwithtool\n",
      "_______\n",
      "{'messages': [AIMessage(content='', additional_kwargs={'tool_calls': [{'id': 'rkr5yya15', 'function': {'arguments': '{\"query\":\"weather in New Delhi\"}', 'name': 'search'}, 'type': 'function'}]}, response_metadata={'token_usage': {'completion_tokens': 197, 'prompt_tokens': 134, 'total_tokens': 331, 'completion_time': 0.818128552, 'prompt_time': 0.008560846, 'queue_time': 0.220910377, 'total_time': 0.826689398}, 'model_name': 'deepseek-r1-distill-llama-70b', 'system_fingerprint': 'fp_1bbe7845ec', 'finish_reason': 'tool_calls', 'logprobs': None}, id='run--d65f5ea3-ae86-447a-9f70-c2f4f7fea82a-0', tool_calls=[{'name': 'search', 'args': {'query': 'weather in New Delhi'}, 'id': 'rkr5yya15', 'type': 'tool_call'}], usage_metadata={'input_tokens': 134, 'output_tokens': 197, 'total_tokens': 331})]}\n",
      "\n",
      "\n",
      "Here is output from mytools\n",
      "_______\n",
      "{'messages': [ToolMessage(content='the temp is 45 degree and sunny', name='search', id='244a8cd2-bf32-4fed-8938-11614f503288', tool_call_id='rkr5yya15')]}\n",
      "\n",
      "\n",
      "Here is output from llmwithtool\n",
      "_______\n",
      "{'messages': [AIMessage(content='', additional_kwargs={'tool_calls': [{'id': 'xkfaw7qmz', 'function': {'arguments': '{\"query\":\"weather in New Delhi\"}', 'name': 'search'}, 'type': 'function'}]}, response_metadata={'token_usage': {'completion_tokens': 238, 'prompt_tokens': 193, 'total_tokens': 431, 'completion_time': 0.956876531, 'prompt_time': 0.011967015, 'queue_time': 0.22373711300000002, 'total_time': 0.968843546}, 'model_name': 'deepseek-r1-distill-llama-70b', 'system_fingerprint': 'fp_1bbe7845ec', 'finish_reason': 'tool_calls', 'logprobs': None}, id='run--9065a90d-2f88-4a4b-965c-86ba7ceecd47-0', tool_calls=[{'name': 'search', 'args': {'query': 'weather in New Delhi'}, 'id': 'xkfaw7qmz', 'type': 'tool_call'}], usage_metadata={'input_tokens': 193, 'output_tokens': 238, 'total_tokens': 431})]}\n",
      "\n",
      "\n",
      "Here is output from mytools\n",
      "_______\n",
      "{'messages': [ToolMessage(content='the temp is 45 degree and sunny', name='search', id='dad6a416-4e03-4fe6-b682-81af36e251ff', tool_call_id='xkfaw7qmz')]}\n",
      "\n",
      "\n",
      "Here is output from llmwithtool\n",
      "_______\n",
      "{'messages': [AIMessage(content=\"It seems like you're asking about the weather in New Delhi again. The weather is currently 45 degrees and sunny. If you need more details or if there's something else you'd like to know, feel free to ask!\", additional_kwargs={}, response_metadata={'token_usage': {'completion_tokens': 200, 'prompt_tokens': 252, 'total_tokens': 452, 'completion_time': 0.989659451, 'prompt_time': 0.016363326, 'queue_time': 0.223214152, 'total_time': 1.006022777}, 'model_name': 'deepseek-r1-distill-llama-70b', 'system_fingerprint': 'fp_1bbe7845ec', 'finish_reason': 'stop', 'logprobs': None}, id='run--eb5b87c1-370f-44f5-af49-7f660fac40f4-0', usage_metadata={'input_tokens': 252, 'output_tokens': 200, 'total_tokens': 452})]}\n",
      "\n",
      "\n"
     ]
    }
   ],
   "source": [
    "\n",
    "from langchain_core.tools import tool\n",
    "\n",
    "@tool\n",
    "def search(query:str):\n",
    "    \"\"\"this is my custom tool for searching a weather\"\"\"\n",
    "    if \"delhi\" in query.lower():\n",
    "        return \"the temp is 45 degree and sunny\"\n",
    "    return \"the temp is 25 degree and cloudy\"\n",
    "\n",
    "tools = [search]\n",
    "llm_with_tools = llm.bind_tools(tools)\n",
    "\n",
    "def call_model(state:MessagesState):\n",
    "    question=state[\"messages\"]\n",
    "    response=llm_with_tools.invoke(question)\n",
    "    return {\"messages\":[response]}\n",
    "\n",
    "def router_function(state: MessagesState):\n",
    "    message = state[\"messages\"]\n",
    "    last_message = message[-1]\n",
    "    if last_message.tool_calls:\n",
    "        return \"tools\"\n",
    "    return END\n",
    "\n",
    "from langgraph.prebuilt import ToolNode\n",
    "tool_node = ToolNode(tools)\n",
    "\n",
    "workflow2 = StateGraph(MessagesState)\n",
    "workflow2.add_node(\"llmwithtool\", call_model)\n",
    "workflow2.add_node(\"mytools\", tool_node)\n",
    "workflow2.add_edge(START, \"llmwithtool\")\n",
    "workflow2.add_conditional_edges(\"llmwithtool\", router_function, {\"tools\": \"mytools\", END: END})\n",
    "workflow2.add_edge(\"mytools\", \"llmwithtool\")\n",
    "app2 = workflow2.compile()\n",
    "\n",
    "from IPython.display import Image, display\n",
    "display(Image(app2.get_graph().draw_mermaid_png()))\n",
    "\n",
    "print(app2.invoke({\"messages\": [\"what is a weather in bengaluru?\"]})[\"messages\"][-1].content)\n",
    "print(app2.invoke({\"messages\": [\"what is a weather in delhi?\"]})[\"messages\"][-1].content)\n",
    "print(app2.invoke({\"messages\": [\"hi how are you?\"]})[\"messages\"][-1].content)\n",
    "\n",
    "for output in app2.stream({\"messages\": [\"what is a weather in new delhi?\"]}):\n",
    "    for key, value in output.items():\n",
    "        print(f\"Here is output from {key}\")\n",
    "        print(\"_______\")\n",
    "        print(value)\n",
    "        print(\"\\n\")\n"
   ]
  },
  {
   "cell_type": "markdown",
   "metadata": {},
   "source": [
    "# 🟢 Part 3: Memory Saver with Threaded Conversations\n",
    "Maintains long-term conversation memory using MemorySaver."
   ]
  },
  {
   "cell_type": "code",
   "execution_count": 18,
   "metadata": {},
   "outputs": [
    {
     "data": {
      "image/png": "[encoded data removed]",
      "text/plain": [
       "<IPython.core.display.Image object>"
      ]
     },
     "metadata": {},
     "output_type": "display_data"
    },
    {
     "name": "stdout",
     "output_type": "stream",
     "text": [
      "================================\u001b[1m Human Message \u001b[0m=================================\n",
      "\n",
      "what is a weather in new delhi?\n",
      "==================================\u001b[1m Ai Message \u001b[0m==================================\n",
      "Tool Calls:\n",
      "  search (9bxk2a3v3)\n",
      " Call ID: 9bxk2a3v3\n",
      "  Args:\n",
      "    query: weather in New Delhi\n",
      "=================================\u001b[1m Tool Message \u001b[0m=================================\n",
      "Name: search\n",
      "\n",
      "the temp is 45 degree and sunny\n",
      "==================================\u001b[1m Ai Message \u001b[0m==================================\n",
      "\n",
      "The weather in New Delhi is currently 45 degrees and sunny. It seems quite warm there! Let me know if you'd like more details.\n",
      "================================\u001b[1m Human Message \u001b[0m=================================\n",
      "\n",
      "what is a weather in indore?\n",
      "==================================\u001b[1m Ai Message \u001b[0m==================================\n",
      "Tool Calls:\n",
      "  search (dyhxdbqgs)\n",
      " Call ID: dyhxdbqgs\n",
      "  Args:\n",
      "    query: weather in Indore\n",
      "=================================\u001b[1m Tool Message \u001b[0m=================================\n",
      "Name: search\n",
      "\n",
      "the temp is 25 degree and cloudy\n",
      "==================================\u001b[1m Ai Message \u001b[0m==================================\n",
      "Tool Calls:\n",
      "  search (0bhjr6ran)\n",
      " Call ID: 0bhjr6ran\n",
      "  Args:\n",
      "    query: weather in Indore\n",
      "=================================\u001b[1m Tool Message \u001b[0m=================================\n",
      "Name: search\n",
      "\n",
      "the temp is 25 degree and cloudy\n",
      "==================================\u001b[1m Ai Message \u001b[0m==================================\n",
      "Tool Calls:\n",
      "  search (ykch2djn7)\n",
      " Call ID: ykch2djn7\n",
      "  Args:\n",
      "    query: weather in Indore\n",
      "=================================\u001b[1m Tool Message \u001b[0m=================================\n",
      "Name: search\n",
      "\n",
      "the temp is 25 degree and cloudy\n",
      "==================================\u001b[1m Ai Message \u001b[0m==================================\n",
      "\n",
      "The weather in Indore is currently 25 degrees and cloudy. It seems quite pleasant there! Let me know if you'd like more details.\n",
      "================================\u001b[1m Human Message \u001b[0m=================================\n",
      "\n",
      "in which city the temp was 25 degree?\n",
      "==================================\u001b[1m Ai Message \u001b[0m==================================\n",
      "\n",
      "The temperature of 25 degrees was in **Indore**, and the weather was cloudy.\n"
     ]
    },
    {
     "data": {
      "text/plain": [
       "{'v': 3,\n",
       " 'ts': '2025-07-03T02:09:45.508560+00:00',\n",
       " 'id': '1f057b2c-a1b9-64e8-800f-6a6d7ea475bc',\n",
       " 'channel_versions': {'__start__': '00000000000000000000000000000016.0.43571512253566147',\n",
       "  'messages': '00000000000000000000000000000017.0.7456281634370822',\n",
       "  'branch:to:llmwithtool': '00000000000000000000000000000017.0.42786481240982965',\n",
       "  'branch:to:mytools': '00000000000000000000000000000013.0.8495368483633161'},\n",
       " 'versions_seen': {'__input__': {},\n",
       "  '__start__': {'__start__': '00000000000000000000000000000015.0.7261579770734354'},\n",
       "  'llmwithtool': {'branch:to:llmwithtool': '00000000000000000000000000000016.0.2085877969740979'},\n",
       "  'mytools': {'branch:to:mytools': '00000000000000000000000000000012.0.6731930100407827'}},\n",
       " 'channel_values': {'messages': [HumanMessage(content='what is a weather in new delhi?', additional_kwargs={}, response_metadata={}, id='be66bae8-e817-41b5-899a-6a1d383143a8'),\n",
       "   AIMessage(content='', additional_kwargs={'tool_calls': [{'id': '9bxk2a3v3', 'function': {'arguments': '{\"query\":\"weather in New Delhi\"}', 'name': 'search'}, 'type': 'function'}]}, response_metadata={'token_usage': {'completion_tokens': 203, 'prompt_tokens': 134, 'total_tokens': 337, 'completion_time': 0.785811268, 'prompt_time': 0.014987839, 'queue_time': 0.221700144, 'total_time': 0.800799107}, 'model_name': 'deepseek-r1-distill-llama-70b', 'system_fingerprint': 'fp_1bbe7845ec', 'finish_reason': 'tool_calls', 'logprobs': None}, id='run--fefb827e-478d-45f2-a3c2-0ee66b42b2d0-0', tool_calls=[{'name': 'search', 'args': {'query': 'weather in New Delhi'}, 'id': '9bxk2a3v3', 'type': 'tool_call'}], usage_metadata={'input_tokens': 134, 'output_tokens': 203, 'total_tokens': 337}),\n",
       "   ToolMessage(content='the temp is 45 degree and sunny', name='search', id='f02c1a4a-333b-4063-ac75-a422358cd2b9', tool_call_id='9bxk2a3v3'),\n",
       "   AIMessage(content=\"The weather in New Delhi is currently 45 degrees and sunny. It seems quite warm there! Let me know if you'd like more details.\", additional_kwargs={}, response_metadata={'token_usage': {'completion_tokens': 239, 'prompt_tokens': 195, 'total_tokens': 434, 'completion_time': 1.139153857, 'prompt_time': 0.019888237, 'queue_time': 0.221419865, 'total_time': 1.159042094}, 'model_name': 'deepseek-r1-distill-llama-70b', 'system_fingerprint': 'fp_1bbe7845ec', 'finish_reason': 'stop', 'logprobs': None}, id='run--2908b675-744f-4a9a-a817-3bb5ac0cd170-0', usage_metadata={'input_tokens': 195, 'output_tokens': 239, 'total_tokens': 434}),\n",
       "   HumanMessage(content='what is a weather in indore?', additional_kwargs={}, response_metadata={}, id='a13ffc64-a3a4-4f8b-9f10-58121629fbec'),\n",
       "   AIMessage(content='', additional_kwargs={'tool_calls': [{'id': 'dyhxdbqgs', 'function': {'arguments': '{\"query\":\"weather in Indore\"}', 'name': 'search'}, 'type': 'function'}]}, response_metadata={'token_usage': {'completion_tokens': 181, 'prompt_tokens': 235, 'total_tokens': 416, 'completion_time': 0.867761307, 'prompt_time': 0.014785882, 'queue_time': 0.233497716, 'total_time': 0.882547189}, 'model_name': 'deepseek-r1-distill-llama-70b', 'system_fingerprint': 'fp_1bbe7845ec', 'finish_reason': 'tool_calls', 'logprobs': None}, id='run--81543151-6755-41f5-addc-6d9ac9126da9-0', tool_calls=[{'name': 'search', 'args': {'query': 'weather in Indore'}, 'id': 'dyhxdbqgs', 'type': 'tool_call'}], usage_metadata={'input_tokens': 235, 'output_tokens': 181, 'total_tokens': 416}),\n",
       "   ToolMessage(content='the temp is 25 degree and cloudy', name='search', id='f918491e-1bed-4498-9466-694670b6dc21', tool_call_id='dyhxdbqgs'),\n",
       "   AIMessage(content='', additional_kwargs={'tool_calls': [{'id': '0bhjr6ran', 'function': {'arguments': '{\"query\":\"weather in Indore\"}', 'name': 'search'}, 'type': 'function'}]}, response_metadata={'token_usage': {'completion_tokens': 199, 'prompt_tokens': 293, 'total_tokens': 492, 'completion_time': 0.840680039, 'prompt_time': 0.018729213, 'queue_time': 0.23158213800000002, 'total_time': 0.859409252}, 'model_name': 'deepseek-r1-distill-llama-70b', 'system_fingerprint': 'fp_1bbe7845ec', 'finish_reason': 'tool_calls', 'logprobs': None}, id='run--3ec2b7dc-37d5-4d5b-91e3-4feacca1ee6d-0', tool_calls=[{'name': 'search', 'args': {'query': 'weather in Indore'}, 'id': '0bhjr6ran', 'type': 'tool_call'}], usage_metadata={'input_tokens': 293, 'output_tokens': 199, 'total_tokens': 492}),\n",
       "   ToolMessage(content='the temp is 25 degree and cloudy', name='search', id='a278af9b-480a-4d1a-b2b1-f9708909c1bc', tool_call_id='0bhjr6ran'),\n",
       "   AIMessage(content='', additional_kwargs={'tool_calls': [{'id': 'ykch2djn7', 'function': {'arguments': '{\"query\":\"weather in Indore\"}', 'name': 'search'}, 'type': 'function'}]}, response_metadata={'token_usage': {'completion_tokens': 260, 'prompt_tokens': 351, 'total_tokens': 611, 'completion_time': 1.093975826, 'prompt_time': 0.029483544, 'queue_time': 0.219401254, 'total_time': 1.12345937}, 'model_name': 'deepseek-r1-distill-llama-70b', 'system_fingerprint': 'fp_1bbe7845ec', 'finish_reason': 'tool_calls', 'logprobs': None}, id='run--de63f012-ac64-4d7e-947c-5e9c366dffa8-0', tool_calls=[{'name': 'search', 'args': {'query': 'weather in Indore'}, 'id': 'ykch2djn7', 'type': 'tool_call'}], usage_metadata={'input_tokens': 351, 'output_tokens': 260, 'total_tokens': 611}),\n",
       "   ToolMessage(content='the temp is 25 degree and cloudy', name='search', id='05778c78-7653-4e33-8d66-2c0308a298b7', tool_call_id='ykch2djn7'),\n",
       "   AIMessage(content=\"The weather in Indore is currently 25 degrees and cloudy. It seems quite pleasant there! Let me know if you'd like more details.\", additional_kwargs={}, response_metadata={'token_usage': {'completion_tokens': 165, 'prompt_tokens': 410, 'total_tokens': 575, 'completion_time': 0.710423594, 'prompt_time': 0.026325882, 'queue_time': 0.220282786, 'total_time': 0.736749476}, 'model_name': 'deepseek-r1-distill-llama-70b', 'system_fingerprint': 'fp_1bbe7845ec', 'finish_reason': 'stop', 'logprobs': None}, id='run--30cf4148-ed7e-4812-871e-cebd591a21dd-0', usage_metadata={'input_tokens': 410, 'output_tokens': 165, 'total_tokens': 575}),\n",
       "   HumanMessage(content='in which city the temp was 25 degree?', additional_kwargs={}, response_metadata={}, id='3bc34e65-7276-4adf-8943-51bf30e12369'),\n",
       "   AIMessage(content='The temperature of 25 degrees was in **Indore**, and the weather was cloudy.', additional_kwargs={}, response_metadata={'token_usage': {'completion_tokens': 170, 'prompt_tokens': 452, 'total_tokens': 622, 'completion_time': 0.801817894, 'prompt_time': 0.028739935, 'queue_time': 0.219428532, 'total_time': 0.830557829}, 'model_name': 'deepseek-r1-distill-llama-70b', 'system_fingerprint': 'fp_1bbe7845ec', 'finish_reason': 'stop', 'logprobs': None}, id='run--7690a518-de43-443b-a62d-1d38189f993b-0', usage_metadata={'input_tokens': 452, 'output_tokens': 170, 'total_tokens': 622})]},\n",
       " 'pending_sends': []}"
      ]
     },
     "execution_count": 18,
     "metadata": {},
     "output_type": "execute_result"
    }
   ],
   "source": [
    "\n",
    "from langgraph.checkpoint.memory import MemorySaver\n",
    "\n",
    "# Create new memory and attach it to the LangGraph app\n",
    "memory = MemorySaver()\n",
    "workflow3 = StateGraph(MessagesState)\n",
    "\n",
    "workflow3.add_node(\"llmwithtool\", call_model)\n",
    "workflow3.add_node(\"mytools\", tool_node)\n",
    "\n",
    "workflow3.add_edge(START, \"llmwithtool\")\n",
    "workflow3.add_conditional_edges(\"llmwithtool\", router_function, {\n",
    "    \"tools\": \"mytools\",\n",
    "    END: END\n",
    "})\n",
    "workflow3.add_edge(\"mytools\", \"llmwithtool\")\n",
    "\n",
    "# Compile app with checkpointer\n",
    "app4 = workflow3.compile(checkpointer=memory)\n",
    "\n",
    "from IPython.display import Image, display\n",
    "display(Image(app4.get_graph().draw_mermaid_png()))\n",
    "\n",
    "# Thread config\n",
    "config = {\"configurable\": {\"thread_id\": \"1\"}}\n",
    "\n",
    "# Stream 1: New Delhi\n",
    "events = app4.stream({\"messages\": [\"what is a weather in new delhi?\"]}, config=config, stream_mode=\"values\")\n",
    "for event in events:\n",
    "    event[\"messages\"][-1].pretty_print()\n",
    "\n",
    "# Stream 2: Indore\n",
    "events = app4.stream({\"messages\": [\"what is a weather in indore?\"]}, config=config, stream_mode=\"values\")\n",
    "for event in events:\n",
    "    event[\"messages\"][-1].pretty_print()\n",
    "\n",
    "# Show memory contents\n",
    "memory.get(config)\n",
    "\n",
    "# Follow-up question leveraging memory\n",
    "events = app4.stream({\"messages\": [\"in which city the temp was 25 degree?\"]}, config=config, stream_mode=\"values\")\n",
    "for event in events:\n",
    "    event[\"messages\"][-1].pretty_print()\n",
    "\n",
    "# Final memory dump\n",
    "memory.get(config)\n"
   ]
  },
  {
   "cell_type": "code",
   "execution_count": null,
   "id": "77bee757",
   "metadata": {},
   "outputs": [],
   "source": []
  }
 ],
 "metadata": {
  "kernelspec": {
   "display_name": "Python 3",
   "language": "python",
   "name": "python3"
  },
  "language_info": {
   "codemirror_mode": {
    "name": "ipython",
    "version": 3
   },
   "file_extension": ".py",
   "mimetype": "text/x-python",
   "name": "python",
   "nbconvert_exporter": "python",
   "pygments_lexer": "ipython3",
   "version": "3.11.13"
  }
 },
 "nbformat": 4,
 "nbformat_minor": 5
}
